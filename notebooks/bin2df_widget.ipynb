{
  "cells": [
    {
      "cell_type": "code",
      "execution_count": null,
      "metadata": {
        "colab": {
          "base_uri": "https://localhost:8080/"
        },
        "id": "XabK_knm7uq2",
        "outputId": "1cf8c7f5-5049-4a16-b3dd-5acf2120dc8c"
      },
      "outputs": [],
      "source": [
        "!git clone https://github.com/jinsanity07git/TransCAD_bin/\n",
        "import sys,os\n",
        "root = os.path.join(\".\",\"TransCAD_bin\")\n",
        "sys.path.insert(0,root)\n",
        "from transcad import zjcaliper3df,fupload,display,save_binbcb\n",
        "display(*fupload)"
      ]
    },
    {
      "cell_type": "code",
      "execution_count": null,
      "metadata": {},
      "outputs": [],
      "source": [
        "inputs = save_binbcb(fupload,f\"{root}/input\")"
      ]
    },
    {
      "cell_type": "code",
      "execution_count": null,
      "metadata": {
        "colab": {
          "base_uri": "https://localhost:8080/",
          "height": 1000
        },
        "id": "tgvGcWQh8FsD",
        "outputId": "53a44f5a-ce21-4112-bce4-58883cfc7c68"
      },
      "outputs": [],
      "source": [
        "zjcaliper3df.dkbin_df(filename=inputs[0])"
      ]
    },
    {
      "cell_type": "code",
      "execution_count": null,
      "metadata": {},
      "outputs": [],
      "source": []
    }
  ],
  "metadata": {
    "colab": {
      "provenance": []
    },
    "kernelspec": {
      "display_name": "Python 3",
      "name": "python3"
    },
    "language_info": {
      "codemirror_mode": {
        "name": "ipython",
        "version": 3
      },
      "file_extension": ".py",
      "mimetype": "text/x-python",
      "name": "python",
      "nbconvert_exporter": "python",
      "pygments_lexer": "ipython3",
      "version": "3.8.12"
    }
  },
  "nbformat": 4,
  "nbformat_minor": 0
}
